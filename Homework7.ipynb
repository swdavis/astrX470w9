{
 "cells": [
  {
   "cell_type": "markdown",
   "id": "bdc46c95-d351-4787-ae77-19adbd0c9f32",
   "metadata": {},
   "source": [
    "# Homework #7\n",
    "\n",
    "This homework will cover a mix of parallelization and running MPI jobs on the cluster.  Hence, some of the problems will require running (short) jobs on Rivanna.\n",
    "\n",
    "**Group work**:  You do not have to do this as a group, but I would encourage students to perform the scaling test in problem 1 in groups of 2-3 since this will cut down on the jobs run concurrently on the same account.  My worry is that if we all try to run it at once, the jobs may wait in the queue for a long time.  Try to do this problem early in the week to avoid a long wait in the queue!  If you do this as a group, please note who your fellow group members are in the problem below."
   ]
  },
  {
   "cell_type": "code",
   "execution_count": 73,
   "id": "4ce3288f-0360-4a1f-a85a-b30e019ae1df",
   "metadata": {},
   "outputs": [],
   "source": [
    "# load homework\n",
    "import homework7 as hw"
   ]
  },
  {
   "cell_type": "markdown",
   "id": "175d4088-273c-48c9-a286-53acd8b06d6b",
   "metadata": {},
   "source": [
    "For performance purposes, Python ignores requests to reimport a module after it has been imported once.  This behavior is not ideal if you are actively developing the module.  You could reset the kernel via the Jupyter lab interface, but the simpler solution is to use the functionality of the `importlib` module as follows.  You can call this anytime you modify homework1.py. "
   ]
  },
  {
   "cell_type": "code",
   "execution_count": 74,
   "id": "be776c1c-6a14-4604-9c92-464bd0702685",
   "metadata": {},
   "outputs": [
    {
     "data": {
      "text/plain": [
       "<module 'homework7' from '/Users/swd8g/Box Sync/astrX470/weeks/w9/homework7.py'>"
      ]
     },
     "execution_count": 74,
     "metadata": {},
     "output_type": "execute_result"
    }
   ],
   "source": [
    "# reload module if already loaded\n",
    "import importlib\n",
    "importlib.reload(hw)"
   ]
  },
  {
   "cell_type": "markdown",
   "id": "a2f1efd9-f9cf-4933-8f4a-cd1231771fab",
   "metadata": {},
   "source": [
    "## Problem 1\n",
    "\n",
    "Let's peform a weak scaling test on Rivanna. We will use my favorite code: Athena++. Now, some of you may be assuming that I keep using/referencing Athena++ simply because I am lazy and that is the code that I know how to use the best. While this is correct on both accounts, another reason for choosing Athena++ is its relative lack of dependence on libraries.  This means that it is one of the easier codes to get up and running fast without having to install dependent software.\n",
    "\n",
    "Start by logging into Rivanna.  I should have demonstrated this in class, but the command from a Linux machines would be\n",
    "```\n",
    "ssh -X swd8g@rivanna.hpc.virginia.edu\n",
    "```\n",
    "Obviously, you should replace my username with your username. You should arrive in your home directory.  Recall that you can use the `pwd` command to check your current directory. You should be able clone the public version of athena here\n",
    "```\n",
    "git clone https://github.com/PrincetonUniversity/athena.git\n",
    "```\n",
    "This should create a directory called athena.  Now configure the code to run the linear_wave test in pure hydrodynamics. The sequence of commands for this follows. First, we load the necessary modules for compilign with mpi:\n",
    "```\n",
    "module purge\n",
    "module load gcc\n",
    "module load openmpi\n",
    "```\n",
    "The purge may not be necessary, but it cannot hurt to get rid of any uneeded loaded modules. You can confirm the modules loaded correctly with\n",
    "```\n",
    "module list\n",
    "```\n",
    "You should see a few extra modules that were loaded because openmpi and gcc depend on these. You can also see that there are specific default versions of these modules.\n",
    "\n",
    "Next, we cd into the athena directory, configure the code, and then compile\n",
    "```\n",
    "cd athena\n",
    "python configure.py --prob=linear_wave -mpi\n",
    "make all\n",
    "```\n",
    "The `configure.py` creates a makefile that is then executed by calling `make`. You can speed the process up by using `make -j 8 all`, which will spread the compilation accross multiple processes -- eight in this example.\n",
    "\n",
    "Now make sure you copy over the `slurm.athena` file that is included in this week's repo.  You can do this by cloning the repo to your home directory on Rivanna or using `scp` to copy it from its location (your computer, the Dell server, etc.) to Rivanna.\n",
    "\n",
    "You will want to run the jobs from your scratch directory on Rivanna. For me this will be `/scratch/swd8g` since my user id is `swd8g`. So cd to the corresponding directory for your account and make directories for running the scaling test. Then copy the `athinput.linear_wave3d` and `slurm.athena` codes to this directory.\n",
    "```\n",
    "cd /scratch/swd8g  (change to your directory)\n",
    "mkdir scaling\n",
    "cd scaling\n",
    "mkdir run01\n",
    "mkdir run05\n",
    "mkdir run10\n",
    "mkdir run20\n",
    "mkdir run40\n",
    "cp /home/swd8g/athena/inputs/hydro/athinput.linear_wave3d .\n",
    "cp /home/swd8g/slurm.athena .\n",
    "```\n",
    "Now copy the athinput file and slurm.athena script into each of the run directories.\n",
    "\n",
    "These jobs should not have to run for very long so \n",
    "\n",
    "reate a script for each run and launch the scripts simultaneously or "
   ]
  },
  {
   "cell_type": "markdown",
   "id": "5bd1ecd0-2274-4189-aa06-b1fe6689eb46",
   "metadata": {
    "collapsed": true,
    "jupyter": {
     "outputs_hidden": true
    }
   },
   "source": [
    "If you did the test as a group, list the other group members here:\n",
    "\n"
   ]
  },
  {
   "cell_type": "code",
   "execution_count": 45,
   "id": "b3c0401f-90c7-4b68-8989-26f86561f9f7",
   "metadata": {},
   "outputs": [],
   "source": []
  },
  {
   "cell_type": "markdown",
   "id": "b06ef31a-a302-471d-8560-3171fd50e7bf",
   "metadata": {},
   "source": [
    "## Problem 2\n",
    "\n",
    "For this problem we will solve Poisson's equation using a finite difference relaxation technique. \n",
    "$$\n",
    "\\frac{d^2 \\phi}{d x^2} = \\rho(x).\n",
    "$$\n",
    "We will take $\\rho$ to be known function of $x$. In this case $\\rho = \\sin(x)$.\n",
    "This needs to be supplemented by boundary conditions, which we will specify at $x=0,~1$ as\n",
    "\\begin{eqnarray}\n",
    "\\phi(0) & = & 0, \\\\\n",
    "\\phi(1) & = & 0.\n",
    "\\end{eqnarray}\n",
    "\n",
    "I provide a serial implementation below and a file poisson.py which gives the skeleton of an MPI version.  Complete the MPI version of poisson.py and then test it below."
   ]
  },
  {
   "cell_type": "code",
   "execution_count": 97,
   "id": "e105a605-144c-48be-b76d-c4c82f1e5916",
   "metadata": {},
   "outputs": [],
   "source": [
    "import numpy as np\n",
    "import matplotlib.pyplot as plt\n",
    "\n",
    "def error(phi1, phi2):\n",
    "    \"\"\"\n",
    "    Normalized relative change in phi between two iterations\n",
    "    \"\"\"\n",
    "    TINY = 1e-10 # avoids potential NaN\n",
    "    dphi = np.abs((phi2-phi1)[1:-1]/(0.5*np.abs(phi1+phi2)+TINY)[1:-1])\n",
    "    return dphi.sum()\n",
    "\n",
    "def jacobi(phi, x, rho):\n",
    "    \"\"\"\n",
    "    Jacobi iteration update of poisson's equation\n",
    "    \"\"\"\n",
    "    dx = 0.5*(x[2:]-x[:-2])\n",
    "    phi[1:-1] = 0.5*(phi[:-2] + phi[2:] - dx*dx*rho[1:-1])\n",
    "    return phi\n",
    "\n",
    "def rhs(x):\n",
    "    \"\"\"\n",
    "    Function for the right hand side of Poisson equation\n",
    "    \"\"\"\n",
    "    return np.sin(x)\n",
    "\n",
    "def relax_solution():\n",
    "    \"\"\"\n",
    "    Solve Poisson's equation using relaxation\n",
    "    \"\"\"\n",
    "    # set parameters for iteration\n",
    "    eps = 1e-7\n",
    "    itermax = 1000000\n",
    "    # initialize grid and rhs\n",
    "    x0 = 0\n",
    "    x1 = 1\n",
    "    nx = 82\n",
    "    x = np.linspace(x0,x1,nx)\n",
    "    phi = np.zeros(x.size)\n",
    "    rho = rhs(x)\n",
    "\n",
    "    err = 10*eps # ensure while executes\n",
    "    iterations = 0\n",
    "    while err > eps:\n",
    "        iterations += 1\n",
    "        phinew = phi.copy()\n",
    "        phinew = jacobi(phinew, x, rho)\n",
    "\n",
    "        err = error(phi, phinew)\n",
    "        phi = phinew\n",
    "        if iterations == itermax:\n",
    "            break\n",
    "    print(\"Total iteration: {0} {1:.3e}\".format(iterations, err))\n",
    "\n",
    "    return x, phi"
   ]
  },
  {
   "cell_type": "code",
   "execution_count": 98,
   "id": "99671493-d8f5-4c54-abf3-e8cfa5c377ef",
   "metadata": {},
   "outputs": [
    {
     "name": "stdout",
     "output_type": "stream",
     "text": [
      "Total iteration: 17677 9.999e-08\n"
     ]
    },
    {
     "data": {
      "image/png": "[encoded data removed]",
      "text/plain": [
       "<Figure size 432x288 with 1 Axes>"
      ]
     },
     "metadata": {
      "needs_background": "light"
     },
     "output_type": "display_data"
    }
   ],
   "source": [
    "# Compute solution and plot\n",
    "x, phi = relax_solution()\n",
    "\n",
    "plt.plot(x, phi, '.',label=\"numerical\")\n",
    "plt.plot(x,-np.sin(x)+x*np.sin(1), label=\"analytic\")\n",
    "plt.legend(loc=\"best\")\n",
    "plt.show()"
   ]
  },
  {
   "cell_type": "markdown",
   "id": "dbc9af49-ea91-4e05-8668-eb138b5673c0",
   "metadata": {},
   "source": [
    "Now write an MPI version of the code by modifying the `main()` function in `jacobi.py`. We will do this using domain decomposition.\n",
    "\n",
    "For example, consider a case where we have a grid of 10 point indexed from $i=0,\\dots,9$. The $i=0,9$ points represent the fixed boundaries of the global grid and the calculation updates points $i=1,\\dots,8$. Now imagine we split this grid in two parts with process 0 update $i=1,2,3,4$ and process 1 updating $i=5,6,7,8$. On both processes we create a grid of *six* points (indexed by $j=0,\\dots,5$).\n",
    "\n",
    "For process 0, the $j=0$ point is still the fixed boundary, $j=1,\\dots,4$ are the global $i=1,2,3,4$ and point $j=5$ is a location to store a copy of the point corresponding to $i=5$ on the global grid, which is on process 1. For process 0, the $j=0$ point is the global $i=4$, which is stored as $j=4$ on process 0, points $j=1,\\dots,4$ are the global $i=5,6,7,8$ and point $j=5$ is the fixed boundary corresponding to $i=9$. Of course, we can generalize this to a larger number of processes, particularly if we have more points.  This is easiest if the global grid (minus the fixed endpoints) is divisble by the number MPI processes used so that each local grid is the same size.\n",
    "\n",
    "But how do we set $j=5$ on process 0 and $j=0$ on proccess 1?  You will need to use MPI to communicate them after each iteration.  You can do this using blocking communcation `Send()` and `Recv()`. Process 0 will send its $j=4$ to process 1 and process 1 will store it in its $j=0$. Process 1 will send $j=1$ and process 0 will store it in its $j=5$ Since the endpoints continue to *not* be updated on the local grid, the `jacobi()` function does not need to be changed from the above implementation.\n",
    "\n",
    "Now try implementing this in the `main()` function of `jacobi.py`.  I have given you the skeleton of the code which works with 1 process:"
   ]
  },
  {
   "cell_type": "code",
   "execution_count": 99,
   "id": "156782b3-44e2-41ba-a4b8-f73f9f92a451",
   "metadata": {},
   "outputs": [
    {
     "name": "stdout",
     "output_type": "stream",
     "text": [
      "Total iteration: 17677 9.999e-08\n",
      "Time with 1 processors: 2.750080e-01\n"
     ]
    },
    {
     "data": {
      "text/plain": [
       "CompletedProcess(args=['mpirun', '-np', '1', 'python', 'jacobi.py'], returncode=0)"
      ]
     },
     "execution_count": 99,
     "metadata": {},
     "output_type": "execute_result"
    }
   ],
   "source": [
    "import subprocess\n",
    "subprocess.run([\"mpirun\",\"-np\",\"1\",\"python\",\"jacobi.py\"])"
   ]
  },
  {
   "cell_type": "markdown",
   "id": "bb27e5f9-8b9a-4183-a840-cfb7a3df6586",
   "metadata": {},
   "source": [
    "This should take the same number of iterations as above and will produce a file called `jacobi.png` that should look like the one above.  Now modify the `main()` fucntion to work with multiple processes and try four processes below."
   ]
  },
  {
   "cell_type": "code",
   "execution_count": 100,
   "id": "57b5673a-eb50-4603-ae37-05f5ebb130bb",
   "metadata": {},
   "outputs": [
    {
     "name": "stdout",
     "output_type": "stream",
     "text": [
      "Total iteration: 17677 9.999e-08\n",
      "Time with 4 processors: 1.092837e+00\n"
     ]
    },
    {
     "data": {
      "text/plain": [
       "CompletedProcess(args=['mpirun', '-np', '4', 'python', 'jacobi.py'], returncode=0)"
      ]
     },
     "execution_count": 100,
     "metadata": {},
     "output_type": "execute_result"
    }
   ],
   "source": [
    "import subprocess\n",
    "subprocess.run([\"mpirun\",\"-np\",\"4\",\"python\",\"jacobi.py\"])"
   ]
  },
  {
   "cell_type": "markdown",
   "id": "a17bfc9a-696f-497e-ae8b-7a98d5b5ca3f",
   "metadata": {},
   "source": [
    "If you did this correctly, it should take the exact same number of iterations and procude an identical plot to what you obtain with a single process.  You will also likely find that it takes **longer** to run! What a bummer -- all that work and it is slower. This is because we are not really doing enough work in our `jacobi` function to overcome the latency and overhead associated with the communication.  We need to do more work per send/receive than we can easily do with such a simple 1D problem. We could, of course, make the array larger e.g. 8002 rather than 82, but it turns out that the size of the array impacts the rate of convergence and signifcantly increase the numer of iterations required so I would not recommend pursuing this approach."
   ]
  },
  {
   "cell_type": "markdown",
   "id": "1961d663-e973-4eb5-a836-978650374723",
   "metadata": {},
   "source": [
    "## Problem 3\n",
    "\n",
    "Recall that when we first implemented iterative solutions of matrix equations, we discussed both the Jacobi method and the Gauss-Seidel method, with Gauss-Seidel being faster because it incorporates new information.  At the time I mentioned that Jacobi is sometime still used because it parallelizes more efficiently.  The problem with Gauss-Seidel is that you need to incorporate new information (which may be on the other process) to make it converge more efficiently.\n",
    "\n",
    "In order to get around this, we can use a method called Red-Black Gauss-Seidel.  This is a two step method, where you only update every other cell/point in the grid on each substep. For example in 1D, you would first update $i=0,2,4,\\dots$ and then on the next step $i=1,3,5,\\dots$.  In 2D this looks like a checkerboard patter -- hence the name red-black Guass-Seidel.\n",
    "\n",
    "Let's try this on our current 1D problem."
   ]
  },
  {
   "cell_type": "code",
   "execution_count": 96,
   "id": "a067932f-d8ba-48bc-940c-0acf54d887a0",
   "metadata": {},
   "outputs": [
    {
     "name": "stderr",
     "output_type": "stream",
     "text": [
      "Traceback (most recent call last):\n",
      "  File \"gaussseidel.py\", line 122, in <module>\n",
      "    main()\n",
      "  File \"gaussseidel.py\", line 86, in main\n",
      "    phinew = gaussseidel_black(phinew, x, rho)\n",
      "NameError: name 'gaussseidel_black' is not defined\n"
     ]
    },
    {
     "data": {
      "text/plain": [
       "CompletedProcess(args=['mpirun', '-np', '1', 'python', 'gaussseidel.py'], returncode=1)"
      ]
     },
     "execution_count": 96,
     "metadata": {},
     "output_type": "execute_result"
    }
   ],
   "source": [
    "import subprocess\n",
    "subprocess.run([\"mpirun\",\"-np\",\"1\",\"python\",\"gaussseidel.py\"])"
   ]
  },
  {
   "cell_type": "code",
   "execution_count": null,
   "id": "cc4b1e8d-4f97-48f6-84f4-8c2f7e31a3e2",
   "metadata": {},
   "outputs": [],
   "source": []
  }
 ],
 "metadata": {
  "kernelspec": {
   "display_name": "Python 3 (ipykernel)",
   "language": "python",
   "name": "python3"
  },
  "language_info": {
   "codemirror_mode": {
    "name": "ipython",
    "version": 3
   },
   "file_extension": ".py",
   "mimetype": "text/x-python",
   "name": "python",
   "nbconvert_exporter": "python",
   "pygments_lexer": "ipython3",
   "version": "3.8.0"
  }
 },
 "nbformat": 4,
 "nbformat_minor": 5
}
